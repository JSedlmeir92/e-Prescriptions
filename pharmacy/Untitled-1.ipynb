{
    "cells": [
        {
            "cell_type": "markdown",
            "source": [],
            "metadata": {}
        },
        {
            "cell_type": "code",
            "execution_count": 5,
            "source": [
                "import requests\n",
                "from dateutil.relativedelta import *\n",
                "import os\n",
                "import time\n",
                "from datetime import datetime, date\n",
                "\n",
                "url = 'http://0.0.0.0:7080'\n",
                "url2 = 'http://0.0.0.0:9080'"
            ],
            "outputs": [],
            "metadata": {}
        },
        {
            "cell_type": "code",
            "execution_count": 26,
            "source": [
                "# Gets the CONNECTION ID (to which the proof should be sent)\n",
                "connection_id = requests.get(url2 + '/connections').json()['results'][0]['connection_id']\n",
                "# Gets the CREDENTIAL DEFINITION ID for the proof of a REVOCABLE credential\n",
                "created_schema = requests.get(url + '/schemas/created').json()['schema_ids']\n",
                "schema_name = requests.get(url + '/schemas/' + created_schema[0]).json()['schema']['name']\n",
                "cred_def_id = requests.get(url + '/credential-definitions/created?schema_name=' + schema_name).json()[\n",
                "    'credential_definition_ids'][0]\n",
                "# Creates the PROOF REQUEST\n",
                "today = date.today().isoformat()\n",
                "expiration = date.today() + relativedelta(days=+345, hour=0, minute=0)\n",
                "expiration = int(time.mktime(expiration.timetuple()))\n",
                "\n",
                "print(today)\n",
                "proof_request = {\n",
                "    \"connection_id\": connection_id,\n",
                "    \"proof_request\": {\n",
                "                    \"name\": \"Proof of Receipt\",\n",
                "    \"version\": \"1.0\",\n",
                "    \"requested_attributes\": {\n",
                "        \"e-prescription\": {\n",
                "            \"names\": [\n",
                "                \"doctor_fullname\",\n",
                "                \"doctor_address\",\n",
                "                \"pharmaceutical\",\n",
                "                \"number\",\n",
                "                \"prescription_id\",\n",
                "                \"spending_key\",\n",
                "                \"contract_address\"\n",
                "            ],\n",
                "            \"restrictions\": [\n",
                "                {\n",
                "                    \"cred_def_id\": cred_def_id\n",
                "                }\n",
                "            ]\n",
                "        }\n",
                "    },\n",
                "    \"requested_predicates\": {\n",
                "         \"e-prescription\": {\n",
                "             \"name\": \"expiration\",\n",
                "             \"p_type\": \">=\", \n",
                "             \"p_value\": expiration,\n",
                "             \"restrictions\": [\n",
                "                {\n",
                "                    \"cred_def_id\": cred_def_id\n",
                "                }\n",
                "            ]\n",
                "         }\n",
                "    },\n",
                "    \"non_revoked\": {\n",
                "        \"from\": 0,\n",
                "        \"to\": round(time.time())\n",
                "    },\n",
                "    }\n",
                "}\n",
                "print(proof_request)\n"
            ],
            "outputs": [
                {
                    "output_type": "stream",
                    "name": "stdout",
                    "text": [
                        "2021-08-28\n",
                        "{'connection_id': '8bd13200-95c2-41df-8ac7-bf3f73523b33', 'proof_request': {'name': 'Proof of Receipt', 'version': '1.0', 'requested_attributes': {'e-prescription': {'names': ['doctor_fullname', 'doctor_address', 'pharmaceutical', 'number', 'prescription_id', 'spending_key', 'contract_address'], 'restrictions': [{'cred_def_id': '4cU41vWW82ArfxJxHkzXPG:3:CL:4673:ePrescription'}]}}, 'requested_predicates': {'e-prescription': {'name': 'expiration', 'p_type': '>=', 'p_value': 1630188000, 'restrictions': [{'cred_def_id': '4cU41vWW82ArfxJxHkzXPG:3:CL:4673:ePrescription'}]}}, 'non_revoked': {'from': 0, 'to': 1630163629}}}\n"
                    ]
                }
            ],
            "metadata": {}
        },
        {
            "cell_type": "code",
            "execution_count": 27,
            "source": [
                "requests.post(url2 + '/present-proof/send-request', json=proof_request)"
            ],
            "outputs": [
                {
                    "output_type": "execute_result",
                    "data": {
                        "text/plain": [
                            "<Response [200]>"
                        ]
                    },
                    "metadata": {},
                    "execution_count": 27
                }
            ],
            "metadata": {}
        },
        {
            "cell_type": "code",
            "execution_count": 141,
            "source": [
                "datetime."
            ],
            "outputs": [
                {
                    "output_type": "error",
                    "ename": "AttributeError",
                    "evalue": "'str' object has no attribute 'year'",
                    "traceback": [
                        "\u001b[0;31m---------------------------------------------------------------------------\u001b[0m",
                        "\u001b[0;31mAttributeError\u001b[0m                            Traceback (most recent call last)",
                        "\u001b[0;32m<ipython-input-141-77b29c7ff36f>\u001b[0m in \u001b[0;36m<module>\u001b[0;34m\u001b[0m\n\u001b[0;32m----> 1\u001b[0;31m \u001b[0mdatetime\u001b[0m\u001b[0;34m(\u001b[0m\u001b[0mtoday\u001b[0m\u001b[0;34m.\u001b[0m\u001b[0myear\u001b[0m\u001b[0;34m,\u001b[0m \u001b[0mtoday\u001b[0m\u001b[0;34m.\u001b[0m\u001b[0mmonth\u001b[0m\u001b[0;34m,\u001b[0m \u001b[0mtoday\u001b[0m\u001b[0;34m.\u001b[0m\u001b[0mday\u001b[0m\u001b[0;34m,\u001b[0m \u001b[0mtzinfo\u001b[0m\u001b[0;34m=\u001b[0m\u001b[0mtz\u001b[0m\u001b[0;34m.\u001b[0m\u001b[0mtzutc\u001b[0m\u001b[0;34m(\u001b[0m\u001b[0;34m)\u001b[0m\u001b[0;34m)\u001b[0m\u001b[0;34m\u001b[0m\u001b[0;34m\u001b[0m\u001b[0m\n\u001b[0m",
                        "\u001b[0;31mAttributeError\u001b[0m: 'str' object has no attribute 'year'"
                    ]
                }
            ],
            "metadata": {}
        },
        {
            "cell_type": "code",
            "execution_count": 140,
            "source": [],
            "outputs": [
                {
                    "output_type": "execute_result",
                    "data": {
                        "text/plain": [
                            "'2021-08-29'"
                        ]
                    },
                    "metadata": {},
                    "execution_count": 140
                }
            ],
            "metadata": {}
        },
        {
            "cell_type": "code",
            "execution_count": 10,
            "source": [
                "connection_id = requests.get(url2 + '/connections').json()['results'][0]['connection_id']"
            ],
            "outputs": [
                {
                    "output_type": "error",
                    "ename": "IndexError",
                    "evalue": "list index out of range",
                    "traceback": [
                        "\u001b[0;31m---------------------------------------------------------------------------\u001b[0m",
                        "\u001b[0;31mIndexError\u001b[0m                                Traceback (most recent call last)",
                        "\u001b[0;32m<ipython-input-10-5852ecd79027>\u001b[0m in \u001b[0;36m<module>\u001b[0;34m\u001b[0m\n\u001b[0;32m----> 1\u001b[0;31m \u001b[0mconnection_id\u001b[0m \u001b[0;34m=\u001b[0m \u001b[0mrequests\u001b[0m\u001b[0;34m.\u001b[0m\u001b[0mget\u001b[0m\u001b[0;34m(\u001b[0m\u001b[0murl2\u001b[0m \u001b[0;34m+\u001b[0m \u001b[0;34m'/connections'\u001b[0m\u001b[0;34m)\u001b[0m\u001b[0;34m.\u001b[0m\u001b[0mjson\u001b[0m\u001b[0;34m(\u001b[0m\u001b[0;34m)\u001b[0m\u001b[0;34m[\u001b[0m\u001b[0;34m'results'\u001b[0m\u001b[0;34m]\u001b[0m\u001b[0;34m[\u001b[0m\u001b[0;36m0\u001b[0m\u001b[0;34m]\u001b[0m\u001b[0;34m[\u001b[0m\u001b[0;34m'connection_id'\u001b[0m\u001b[0;34m]\u001b[0m\u001b[0;34m\u001b[0m\u001b[0;34m\u001b[0m\u001b[0m\n\u001b[0m",
                        "\u001b[0;31mIndexError\u001b[0m: list index out of range"
                    ]
                }
            ],
            "metadata": {}
        },
        {
            "cell_type": "code",
            "execution_count": 72,
            "source": [
                "requests.get(url2 + '/present-proof/records?state=verified').json()['results']"
            ],
            "outputs": [
                {
                    "output_type": "execute_result",
                    "data": {
                        "text/plain": [
                            "[]"
                        ]
                    },
                    "metadata": {},
                    "execution_count": 72
                }
            ],
            "metadata": {}
        },
        {
            "cell_type": "code",
            "execution_count": 81,
            "source": [
                "#FileHandler = open(\"quorum_client/result\", \"r\")\n",
                "os.popen(\"tail -n 1 %s\" % \"quorum_client/result\").read().replace(\"\\n\", \"\")"
            ],
            "outputs": [
                {
                    "output_type": "execute_result",
                    "data": {
                        "text/plain": [
                            "'true'"
                        ]
                    },
                    "metadata": {},
                    "execution_count": 81
                }
            ],
            "metadata": {}
        }
    ],
    "metadata": {
        "orig_nbformat": 4,
        "language_info": {
            "name": "python",
            "version": "3.8.5",
            "mimetype": "text/x-python",
            "codemirror_mode": {
                "name": "ipython",
                "version": 3
            },
            "pygments_lexer": "ipython3",
            "nbconvert_exporter": "python",
            "file_extension": ".py"
        },
        "kernelspec": {
            "name": "python3",
            "display_name": "Python 3.8.5 64-bit ('base': conda)"
        },
        "interpreter": {
            "hash": "ba10625808acaad844fa0e34dacdc5b987932951b38aff2f7c7656eee6a81fbf"
        }
    },
    "nbformat": 4,
    "nbformat_minor": 2
}